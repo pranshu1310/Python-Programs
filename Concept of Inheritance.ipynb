{
 "cells": [
  {
   "cell_type": "markdown",
   "metadata": {},
   "source": [
    "Q18. Write a Program to implement Inheritance. Create a class Employee inherit two classes\n",
    "Manager and Clerk from Employee."
   ]
  },
  {
   "cell_type": "code",
   "execution_count": 1,
   "metadata": {},
   "outputs": [
    {
     "name": "stdout",
     "output_type": "stream",
     "text": [
      "1.Senior data\n",
      "2.Junior data\n",
      "1\n",
      "Enter the name of Employee: Pranshu Dhingra\n",
      "Enter the age of Employee: 24\n",
      "Enter the basic salary: 45000\n",
      "Name:  Pranshu Dhingra\n",
      "Age:  24\n",
      "Title:  Senior\n",
      "Basic salary:  45000\n",
      "Total salary of employee is:  54000.0\n"
     ]
    }
   ],
   "source": [
    "class Employee:\n",
    "    def __init__(self):\n",
    "        self.name=\"\"\n",
    "        self.age=\"\"\n",
    "        \n",
    "    def takeinput(self):\n",
    "        name=input(\"Enter the name of Employee: \")\n",
    "        age=int(input(\"Enter the age of Employee: \"))\n",
    "        self.name=name\n",
    "        self.age=age\n",
    "\n",
    "    def result(self):\n",
    "        print (\"Name: \",self.name)\n",
    "        print(\"Age: \",self.age) \n",
    "    \n",
    "class Senior(Employee):\n",
    "    def __init__(self):\n",
    "        Employee.__init__(self)\n",
    "        self.title= \"Senior\"\n",
    "        self.basic_sal= 0\n",
    "\n",
    "    def takeinput(self):\n",
    "        Employee.takeinput(self)\n",
    "        self.basic_sal= int(input(\"Enter the basic salary: \"))\n",
    "    \n",
    "    def result(self):\n",
    "        Employee.result(self)\n",
    "        print(\"Title: \",self.title)\n",
    "        print(\"Basic salary: \",self.basic_sal)\n",
    "        self.total_salary()\n",
    "        \n",
    "    def total_salary(self):\n",
    "        bonus=0\n",
    "        if self.basic_sal>=30000:\n",
    "            bonus= 0.2*self.basic_sal\n",
    "        elif self.basic_sal>20000:\n",
    "            bonus=0.1*self.basic_sal\n",
    "        print(\"Total salary of employee is: \",(self.basic_sal+bonus))\n",
    "    \n",
    "class Junior(Employee):\n",
    "    def __init__(self):\n",
    "        Employee.__init__(self)\n",
    "        self.title= \"Clerk\"\n",
    "        self.basic_sal= 0\n",
    "\n",
    "    def takeinput(self):\n",
    "        Employee.takeinput(self)\n",
    "        self.basic_sal= int(input(\"Enter the basic salary: \"))\n",
    "\n",
    "    def result(self):\n",
    "        Employee.result(self)\n",
    "        print(\"Title: \",self.title)\n",
    "        print(\"Basic salary: \",self.basic_sal)\n",
    "        self.total_salary()\n",
    "\n",
    "    def total_salary(self):\n",
    "        bonus=0 \n",
    "        if self.basic_sal>=15000:\n",
    "            bonus= 0.15*self.basic_sal\n",
    "        elif self.basic_sal>10000:\n",
    "            bonus=0.07*self.basic_sal\n",
    "        print(\"Total salary of employee is: \",(self.basic_sal+bonus))\n",
    "\n",
    "choice=int(input(\"1.Senior data\\n2.Junior data\\n\"))\n",
    "if(choice==1):\n",
    "    s=Senior()\n",
    "    s.takeinput()\n",
    "    s.result()\n",
    "elif(choice==2):\n",
    "    j=Junior()\n",
    "    j.takeinput()\n",
    "    j.result()\n",
    "else:\n",
    "    print(\"Invalid Choice\")"
   ]
  },
  {
   "cell_type": "code",
   "execution_count": null,
   "metadata": {},
   "outputs": [],
   "source": []
  }
 ],
 "metadata": {
  "kernelspec": {
   "display_name": "Python 3",
   "language": "python",
   "name": "python3"
  },
  "language_info": {
   "codemirror_mode": {
    "name": "ipython",
    "version": 3
   },
   "file_extension": ".py",
   "mimetype": "text/x-python",
   "name": "python",
   "nbconvert_exporter": "python",
   "pygments_lexer": "ipython3",
   "version": "3.8.5"
  }
 },
 "nbformat": 4,
 "nbformat_minor": 4
}
