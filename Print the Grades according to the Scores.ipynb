{
 "cells": [
  {
   "cell_type": "markdown",
   "metadata": {},
   "source": [
    "Q13. Write a Program to enter the 5 subjects numbers and print the grades A/B/C/D/E."
   ]
  },
  {
   "cell_type": "code",
   "execution_count": 1,
   "metadata": {},
   "outputs": [
    {
     "name": "stdout",
     "output_type": "stream",
     "text": [
      "Enter marks of the first subject: 63\n",
      "Enter marks of the second subject: 90\n",
      "Enter marks of the third subject: 83\n",
      "Enter marks of the fourth subject: 56\n",
      "Enter marks of the fifth subject: 75\n",
      "Grade: D\n"
     ]
    }
   ],
   "source": [
    "sub1=float(input(\"Enter marks of the first subject: \"))\n",
    "sub2=float(input(\"Enter marks of the second subject: \"))\n",
    "sub3=float(input(\"Enter marks of the third subject: \"))\n",
    "sub4=float(input(\"Enter marks of the fourth subject: \"))\n",
    "sub5=float(input(\"Enter marks of the fifth subject: \"))\n",
    "avg=(sub1+sub2+sub3+sub4+sub4)/5\n",
    "if(avg>=90):\n",
    "    print(\"Grade: A\")\n",
    "elif(avg>=80 and avg<90):\n",
    "    print(\"Grade: B\")\n",
    "elif(avg>=70 and avg<80):\n",
    "    print(\"Grade: C\")\n",
    "elif(avg>=60 and avg<70):\n",
    "    print(\"Grade: D\")\n",
    "else:\n",
    "    print(\"Grade: F\")"
   ]
  },
  {
   "cell_type": "code",
   "execution_count": null,
   "metadata": {},
   "outputs": [],
   "source": []
  }
 ],
 "metadata": {
  "kernelspec": {
   "display_name": "Python 3",
   "language": "python",
   "name": "python3"
  },
  "language_info": {
   "codemirror_mode": {
    "name": "ipython",
    "version": 3
   },
   "file_extension": ".py",
   "mimetype": "text/x-python",
   "name": "python",
   "nbconvert_exporter": "python",
   "pygments_lexer": "ipython3",
   "version": "3.8.5"
  }
 },
 "nbformat": 4,
 "nbformat_minor": 4
}
