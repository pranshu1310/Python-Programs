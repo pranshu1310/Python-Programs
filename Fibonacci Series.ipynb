{
 "cells": [
  {
   "cell_type": "markdown",
   "metadata": {},
   "source": [
    "Q10. Write a Program to enter the number of terms and to print the Fibonacci Series."
   ]
  },
  {
   "cell_type": "code",
   "execution_count": 1,
   "metadata": {},
   "outputs": [
    {
     "name": "stdout",
     "output_type": "stream",
     "text": [
      "How many terms do you want?9\n",
      "Fibonacci sequence:\n",
      "0\n",
      "1\n",
      "1\n",
      "2\n",
      "3\n",
      "5\n",
      "8\n",
      "13\n",
      "21\n"
     ]
    }
   ],
   "source": [
    "def fibonacci(n):\n",
    "    n1, n2 = 0, 1\n",
    "    count = 0\n",
    "    if n <= 0:\n",
    "        print(\"Enter a positive integer\")\n",
    "    elif n == 1:\n",
    "        print(\"Fibonacci sequence upto\",n,\":\")\n",
    "        print(n1,n2)\n",
    "    else:\n",
    "        print(\"Fibonacci sequence:\")\n",
    "        while count < n:\n",
    "            print(n1)\n",
    "            n3 = n1 + n2\n",
    "            n1 = n2\n",
    "            n2 = n3\n",
    "            count += 1\n",
    "\n",
    "a=int(input(\"How many terms do you want?\"))\n",
    "fibonacci(a) "
   ]
  },
  {
   "cell_type": "code",
   "execution_count": null,
   "metadata": {},
   "outputs": [],
   "source": []
  }
 ],
 "metadata": {
  "kernelspec": {
   "display_name": "Python 3",
   "language": "python",
   "name": "python3"
  },
  "language_info": {
   "codemirror_mode": {
    "name": "ipython",
    "version": 3
   },
   "file_extension": ".py",
   "mimetype": "text/x-python",
   "name": "python",
   "nbconvert_exporter": "python",
   "pygments_lexer": "ipython3",
   "version": "3.8.5"
  }
 },
 "nbformat": 4,
 "nbformat_minor": 4
}
