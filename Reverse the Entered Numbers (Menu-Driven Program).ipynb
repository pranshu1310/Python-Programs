{
 "cells": [
  {
   "cell_type": "markdown",
   "metadata": {},
   "source": [
    "Q4. Write a menu driven Program to reverse the entered numbers and print the sum of the digits."
   ]
  },
  {
   "cell_type": "code",
   "execution_count": 1,
   "metadata": {},
   "outputs": [
    {
     "name": "stdout",
     "output_type": "stream",
     "text": [
      "Enter the number: 653798\n",
      "Reverse of the number is  897356\n",
      "Sum of the digits is  38\n"
     ]
    }
   ],
   "source": [
    "def revv(n):\n",
    "    temp=n\n",
    "    rev=0\n",
    "    add=0\n",
    "\n",
    "    while(temp>0):\n",
    "        a=temp%10\n",
    "        rev=rev*10+a\n",
    "        add=add+a\n",
    "        temp=temp//10\n",
    "\n",
    "    print(\"Reverse of the number is \",rev)\n",
    "    print(\"Sum of the digits is \",add)\n",
    "\n",
    "n1=int(input( \"Enter the number: \"))\n",
    "revv(n1) "
   ]
  },
  {
   "cell_type": "code",
   "execution_count": null,
   "metadata": {},
   "outputs": [],
   "source": []
  }
 ],
 "metadata": {
  "kernelspec": {
   "display_name": "Python 3",
   "language": "python",
   "name": "python3"
  },
  "language_info": {
   "codemirror_mode": {
    "name": "ipython",
    "version": 3
   },
   "file_extension": ".py",
   "mimetype": "text/x-python",
   "name": "python",
   "nbconvert_exporter": "python",
   "pygments_lexer": "ipython3",
   "version": "3.8.5"
  }
 },
 "nbformat": 4,
 "nbformat_minor": 4
}
