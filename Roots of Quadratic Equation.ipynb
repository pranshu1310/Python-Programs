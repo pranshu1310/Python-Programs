{
 "cells": [
  {
   "cell_type": "markdown",
   "metadata": {},
   "source": [
    "Q3. To compute the roots of a quadratic equation."
   ]
  },
  {
   "cell_type": "code",
   "execution_count": 1,
   "metadata": {},
   "outputs": [
    {
     "name": "stdout",
     "output_type": "stream",
     "text": [
      "For the quadratic eauation a*x^2 + b*x + c\n",
      "Enter value of a: 4\n",
      "Enter value of b: 5\n",
      "Enter value of c: 6\n",
      "(-0.625+1.0532687216470449j) , (-0.625+1.0532687216470449j)\n"
     ]
    }
   ],
   "source": [
    "import cmath\n",
    "\n",
    "def root(a,b,c):\n",
    "    d=(b**2)-(4*a*c)\n",
    "    sol1= ((-b+ cmath.sqrt(d))/(2*a))\n",
    "    sol2= ((-b+ cmath.sqrt(d))/(2*a))\n",
    "    print(sol1,\",\",sol2)\n",
    "\n",
    "print( \"For the quadratic eauation a*x^2 + b*x + c\")\n",
    "\n",
    "a1= float(input( \"Enter value of a: \"))\n",
    "b1= float(input( \"Enter value of b: \"))\n",
    "c1= float(input( \"Enter value of c: \"))\n",
    "root(a1,b1,c1) "
   ]
  },
  {
   "cell_type": "code",
   "execution_count": null,
   "metadata": {},
   "outputs": [],
   "source": []
  }
 ],
 "metadata": {
  "kernelspec": {
   "display_name": "Python 3",
   "language": "python",
   "name": "python3"
  },
  "language_info": {
   "codemirror_mode": {
    "name": "ipython",
    "version": 3
   },
   "file_extension": ".py",
   "mimetype": "text/x-python",
   "name": "python",
   "nbconvert_exporter": "python",
   "pygments_lexer": "ipython3",
   "version": "3.8.5"
  }
 },
 "nbformat": 4,
 "nbformat_minor": 4
}
