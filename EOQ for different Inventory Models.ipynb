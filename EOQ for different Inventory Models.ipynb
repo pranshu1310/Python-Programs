{
 "cells": [
  {
   "cell_type": "markdown",
   "metadata": {},
   "source": [
    "Q16. Write a Program to determine EOQ using various inventory models."
   ]
  },
  {
   "cell_type": "code",
   "execution_count": 2,
   "metadata": {},
   "outputs": [
    {
     "name": "stdout",
     "output_type": "stream",
     "text": [
      "1: Model 1 (Economic Order Quantity)\n",
      "2: Model 2 (Finite Replenishment)\n",
      "3: Model 3 (Shortages allowed and fully backlogged)\n",
      "4: Model 4 (Generalised Economic Lot Size)\n",
      "Enter model number you want to analyse: 1\n",
      "Enter ordering cost, A (in Rs.): 150\n",
      "Enter annual demand (Number of units): 750\n",
      "Enter inventory carrying coste per unit per year,Ic(in Rs):22.5\n",
      "\n",
      "Economic Order Quantity, Q*=  100\n"
     ]
    }
   ],
   "source": [
    "import math\n",
    "class Inventory():\n",
    "    def __init__(self):\n",
    "        print(\"1: Model 1 (Economic Order Quantity)\")\n",
    "        print(\"2: Model 2 (Finite Replenishment)\")\n",
    "        print(\"3: Model 3 (Shortages allowed and fully backlogged)\")\n",
    "        print(\"4: Model 4 (Generalised Economic Lot Size)\")\n",
    "        self.choice=int(input(\"Enter model number you want to analyse: \"))\n",
    "        if(self.choice>4 or self.choice<1):\n",
    "            print(\"Enter valid option\")\n",
    "    def takinginput(self):\n",
    "        self.a=float(input(\"Enter ordering cost, A (in Rs.): \"))\n",
    "        self.l=float(input(\"Enter annual demand (Number of units): \"))\n",
    "        self.ic=float(input(\"Enter inventory carrying coste per unit per year,Ic(in Rs):\"))\n",
    "    def model1(self):\n",
    "        self.eoq= math.sqrt ((2*self.a*self.l/self.ic))\n",
    "    def model2(self,p):\n",
    "        self.eoq= math.sqrt((2*self.a*self.l/self.ic)*(p/(p-self.l)))\n",
    "    def model3(self,sc):\n",
    "        self.eoq=math.sqrt((2*self.a*self.l/self.ic)*(sc+self.ic)/sc)\n",
    "    def model4(self,p,sc):\n",
    "        self.eoq=math.sqrt((2*self.a*self.l/self.ic)*(sc+self.ic)/sc*(p/(p-self.l)))\n",
    "    def result(self):\n",
    "        print(\"\\nEconomic Order Quantity, Q*= \",round(self.eoq)) \n",
    "a=Inventory()\n",
    "if(a.choice==1):\n",
    "    a.takinginput()\n",
    "    a.model1()\n",
    "    a.result()\n",
    "if(a.choice==2):\n",
    "    a.takinginput()\n",
    "    p=float(input(\"Enter Production rate: \"))\n",
    "    a.model2(p)\n",
    "    a.result()\n",
    "if(a.choice==3):\n",
    "    a.takinginput()\n",
    "    sc=float(input(\"Enter Shortage cost: \"))\n",
    "    a.model3(sc)\n",
    "    a.result()\n",
    "if(a.choice==4):\n",
    "    a.takinginput()\n",
    "    p=float(input(\"Enter Production Rate: \"))\n",
    "    sc=float(input(\"Enter Shortage cost: \"))\n",
    "    a.model4(p,sc)\n",
    "    a.result() "
   ]
  },
  {
   "cell_type": "code",
   "execution_count": null,
   "metadata": {},
   "outputs": [],
   "source": []
  }
 ],
 "metadata": {
  "kernelspec": {
   "display_name": "Python 3",
   "language": "python",
   "name": "python3"
  },
  "language_info": {
   "codemirror_mode": {
    "name": "ipython",
    "version": 3
   },
   "file_extension": ".py",
   "mimetype": "text/x-python",
   "name": "python",
   "nbconvert_exporter": "python",
   "pygments_lexer": "ipython3",
   "version": "3.8.5"
  }
 },
 "nbformat": 4,
 "nbformat_minor": 4
}
