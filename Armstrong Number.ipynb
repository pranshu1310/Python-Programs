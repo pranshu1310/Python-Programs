{
 "cells": [
  {
   "cell_type": "markdown",
   "metadata": {},
   "source": [
    "Q8. Write a Program to check if the entered number is Armstrong or not."
   ]
  },
  {
   "cell_type": "code",
   "execution_count": 1,
   "metadata": {},
   "outputs": [
    {
     "name": "stdout",
     "output_type": "stream",
     "text": [
      "Enter the number: 65\n",
      "65 is not an Amstrong Number\n"
     ]
    }
   ],
   "source": [
    "def checkArmstrong(n):\n",
    "    add=0\n",
    "    temp=n\n",
    "    length=len(str(n))\n",
    "    while temp>0:\n",
    "        digit=temp%10\n",
    "        add=add+(digit**length)\n",
    "        temp= temp//10\n",
    "    if n==add:\n",
    "        print(n, \"is an Amstrong Number\")\n",
    "    else:\n",
    "        print(n, \"is not an Amstrong Number\")\n",
    "\n",
    "n1= int(input(\"Enter the number: \"))\n",
    "checkArmstrong(n1) "
   ]
  },
  {
   "cell_type": "code",
   "execution_count": null,
   "metadata": {},
   "outputs": [],
   "source": []
  }
 ],
 "metadata": {
  "kernelspec": {
   "display_name": "Python 3",
   "language": "python",
   "name": "python3"
  },
  "language_info": {
   "codemirror_mode": {
    "name": "ipython",
    "version": 3
   },
   "file_extension": ".py",
   "mimetype": "text/x-python",
   "name": "python",
   "nbconvert_exporter": "python",
   "pygments_lexer": "ipython3",
   "version": "3.8.5"
  }
 },
 "nbformat": 4,
 "nbformat_minor": 4
}
