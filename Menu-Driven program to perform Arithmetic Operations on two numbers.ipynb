{
 "cells": [
  {
   "cell_type": "markdown",
   "metadata": {},
   "source": [
    "Q2. Write a menu driven program to enter two numbers and print the arithmetic operation\n",
    "a. + b. – c. * d. / e. // f. %"
   ]
  },
  {
   "cell_type": "code",
   "execution_count": 1,
   "metadata": {},
   "outputs": [
    {
     "name": "stdout",
     "output_type": "stream",
     "text": [
      "Enter First Number: 234\n",
      "Enter Second Number: 435\n",
      "Enter 1 for addition(+)\n",
      "Enter 2 for subraction(-)\n",
      "Enter 3 for multiplication(*)\n",
      "Enter 4 for division(/)\n",
      "Enter 5 for floor division(//)\n",
      "Enter 6 for modulus(%)\n",
      "Enter your choice: 1\n",
      "234.0  +  435.0  =  669.0\n",
      "Do you want to continue?? (y/n)y\n",
      "Enter First Number: 245\n",
      "Enter Second Number: 78\n",
      "Enter 1 for addition(+)\n",
      "Enter 2 for subraction(-)\n",
      "Enter 3 for multiplication(*)\n",
      "Enter 4 for division(/)\n",
      "Enter 5 for floor division(//)\n",
      "Enter 6 for modulus(%)\n",
      "Enter your choice: 5\n",
      "245.0  //  78.0  =  3.0\n",
      "Do you want to continue?? (y/n)n\n",
      "Thank you\n"
     ]
    }
   ],
   "source": [
    "flag='y'\n",
    "while flag=='y':\n",
    "    num1= float (input( \"Enter First Number: \"))\n",
    "    num2= float (input( \"Enter Second Number: \"))\n",
    "    print( \"Enter 1 for addition(+)\")\n",
    "    print( \"Enter 2 for subraction(-)\")\n",
    "    print( \"Enter 3 for multiplication(*)\")\n",
    "    print( \"Enter 4 for division(/)\")\n",
    "    print( \"Enter 5 for floor division(//)\")\n",
    "    print( \"Enter 6 for modulus(%)\")\n",
    "    \n",
    "    ch= int(input(\"Enter your choice: \"))\n",
    "    \n",
    "    if ch==1: \n",
    "        add=(num1+num2)\n",
    "        print(num1, \" + \",num2,\" = \" , add)\n",
    "    elif ch==2:\n",
    "        sub=(num1-num2)\n",
    "        print (num1, \" - \",num2,\" = \" ,sub)\n",
    "    elif ch==3:\n",
    "        mul=(num1*num2)\n",
    "        print(num1, \" * \", num2 ,\" = \", mul)\n",
    "    elif ch==4:\n",
    "        div= num1/num2\n",
    "        print ( num1, \" / \", num2, \" = \",div)\n",
    "    elif ch==5:\n",
    "        fd=num1//num2\n",
    "        print(num1, \" // \" , num2, \" = \",fd)\n",
    "    elif ch==6:\n",
    "        mod= num1%num2\n",
    "        print(num1,\" % \",num2,\" = \",mod)\n",
    "    else:\n",
    "        print(\"invalid input\")\n",
    "    \n",
    "    flag=str(input(\"Do you want to continue?? (y/n)\"))\n",
    "\n",
    "print(\"Thank you\")"
   ]
  },
  {
   "cell_type": "code",
   "execution_count": null,
   "metadata": {},
   "outputs": [],
   "source": []
  }
 ],
 "metadata": {
  "kernelspec": {
   "display_name": "Python 3",
   "language": "python",
   "name": "python3"
  },
  "language_info": {
   "codemirror_mode": {
    "name": "ipython",
    "version": 3
   },
   "file_extension": ".py",
   "mimetype": "text/x-python",
   "name": "python",
   "nbconvert_exporter": "python",
   "pygments_lexer": "ipython3",
   "version": "3.8.5"
  }
 },
 "nbformat": 4,
 "nbformat_minor": 4
}
