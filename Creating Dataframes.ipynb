{
 "cells": [
  {
   "cell_type": "markdown",
   "metadata": {},
   "source": [
    "Q22. Write a Program to enter multiple values-based data in multiple columns/rows and show that\n",
    "data in python using DataFrames and pandas."
   ]
  },
  {
   "cell_type": "code",
   "execution_count": 1,
   "metadata": {},
   "outputs": [
    {
     "name": "stdout",
     "output_type": "stream",
     "text": [
      "   Subject  Marks\n",
      "0  English     95\n",
      "1    Maths     93\n",
      "2    Hindi     97\n",
      "3  Science     98\n"
     ]
    }
   ],
   "source": [
    "import pandas as pd\n",
    "data = {'Subject' :['English','Maths','Hindi','Science'],'Marks':[95,93,97,98]}\n",
    "sh = pd.DataFrame(data)\n",
    "print(sh) "
   ]
  },
  {
   "cell_type": "code",
   "execution_count": null,
   "metadata": {},
   "outputs": [],
   "source": []
  }
 ],
 "metadata": {
  "kernelspec": {
   "display_name": "Python 3",
   "language": "python",
   "name": "python3"
  },
  "language_info": {
   "codemirror_mode": {
    "name": "ipython",
    "version": 3
   },
   "file_extension": ".py",
   "mimetype": "text/x-python",
   "name": "python",
   "nbconvert_exporter": "python",
   "pygments_lexer": "ipython3",
   "version": "3.8.8"
  }
 },
 "nbformat": 4,
 "nbformat_minor": 4
}
