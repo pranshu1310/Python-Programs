{
 "cells": [
  {
   "cell_type": "markdown",
   "metadata": {},
   "source": [
    "Q6. Program to find maximum out of entered 3 numbers "
   ]
  },
  {
   "cell_type": "code",
   "execution_count": 2,
   "metadata": {},
   "outputs": [
    {
     "name": "stdout",
     "output_type": "stream",
     "text": [
      "Enter first number: 45\n",
      "Enter second number: 98\n",
      "Enter third number: 34\n",
      "Largest number is  98.0\n"
     ]
    }
   ],
   "source": [
    "def maxm(a,b,c):\n",
    "    if a>=b and a>=c:\n",
    "        largest=a\n",
    "    elif b>=c and b>=a:\n",
    "        largest=b\n",
    "    else:\n",
    "        largest=c\n",
    "    print(\"Largest number is \", largest)\n",
    "\n",
    "a1=float(input(\"Enter first number: \"))\n",
    "b1=float(input(\"Enter second number: \"))\n",
    "c1=float(input(\"Enter third number: \"))\n",
    "maxm(a1,b1,c1) "
   ]
  },
  {
   "cell_type": "code",
   "execution_count": null,
   "metadata": {},
   "outputs": [],
   "source": []
  }
 ],
 "metadata": {
  "kernelspec": {
   "display_name": "Python 3",
   "language": "python",
   "name": "python3"
  },
  "language_info": {
   "codemirror_mode": {
    "name": "ipython",
    "version": 3
   },
   "file_extension": ".py",
   "mimetype": "text/x-python",
   "name": "python",
   "nbconvert_exporter": "python",
   "pygments_lexer": "ipython3",
   "version": "3.8.5"
  }
 },
 "nbformat": 4,
 "nbformat_minor": 4
}
