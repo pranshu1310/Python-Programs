{
 "cells": [
  {
   "cell_type": "markdown",
   "metadata": {},
   "source": [
    "Q5. Write a menu driven Program to enter the number and print whether the number is\n",
    "a. odd or even\n",
    "b. prime or composite"
   ]
  },
  {
   "cell_type": "code",
   "execution_count": 4,
   "metadata": {},
   "outputs": [
    {
     "name": "stdout",
     "output_type": "stream",
     "text": [
      "Enter the number: 54\n",
      "1. To check if the number is odd or even\n",
      "2. To check if the number is prime or composite\n",
      "Enter your choice: 1\n",
      "54 is even\n"
     ]
    }
   ],
   "source": [
    "def func(n,ch):\n",
    "    if n>=0:\n",
    "        if ch==1:\n",
    "            a=n%2\n",
    "            if a==0:\n",
    "                print(n,\"is even\")\n",
    "            else:\n",
    "                print(n,\"is odd\")\n",
    "        elif ch==2:\n",
    "            if n>1:\n",
    "                flag=0\n",
    "                for i in range(2,n):\n",
    "                    if (n%i)==0:\n",
    "                        print ( n, \"is a composite number\")\n",
    "                        flag=1\n",
    "                        break\n",
    "                if flag==0:\n",
    "                    print( n, \"is a prime number\")\n",
    "            elif n==1:\n",
    "                print (n,\"is neither prime nor composite\")\n",
    "            else:\n",
    "                print(\"Invalid Input\")\n",
    "        else:\n",
    "            print( \"Invalid Choice\")\n",
    "    else:\n",
    "        print (\"Invalid Number\")\n",
    "\n",
    "                    \n",
    "n1=int(input(\"Enter the number: \"))\n",
    "print (\"1. To check if the number is odd or even\")\n",
    "print (\"2. To check if the number is prime or composite\")\n",
    "ch1=int(input(\"Enter your choice: \"))\n",
    "func(n1,ch1) \n"
   ]
  },
  {
   "cell_type": "code",
   "execution_count": null,
   "metadata": {},
   "outputs": [],
   "source": []
  }
 ],
 "metadata": {
  "kernelspec": {
   "display_name": "Python 3",
   "language": "python",
   "name": "python3"
  },
  "language_info": {
   "codemirror_mode": {
    "name": "ipython",
    "version": 3
   },
   "file_extension": ".py",
   "mimetype": "text/x-python",
   "name": "python",
   "nbconvert_exporter": "python",
   "pygments_lexer": "ipython3",
   "version": "3.8.5"
  }
 },
 "nbformat": 4,
 "nbformat_minor": 4
}
