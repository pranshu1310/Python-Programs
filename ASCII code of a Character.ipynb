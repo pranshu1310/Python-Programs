{
 "cells": [
  {
   "cell_type": "markdown",
   "metadata": {},
   "source": [
    "Q7. Write a program to display ASCII code of a character and vice versa."
   ]
  },
  {
   "cell_type": "code",
   "execution_count": 2,
   "metadata": {},
   "outputs": [
    {
     "name": "stdout",
     "output_type": "stream",
     "text": [
      "Enter 1 to display ASCII value of a character\n",
      "Enter 2 to display character for a ASCII value\n",
      "Enter your choice: 2\n",
      "Enter ASCII value: 86\n",
      " The character encoded by the ASCII value  86  is  V\n"
     ]
    }
   ],
   "source": [
    "def atoc(a):\n",
    "    print(\" The character encoded by the ASCII value \",a,\" is \", chr(a))\n",
    "\n",
    "def ctoa(b):\n",
    "    print (\" The ASCII value of \",b,\" is \",ord(b))\n",
    "\n",
    "print(\"Enter 1 to display ASCII value of a character\")\n",
    "print(\"Enter 2 to display character for a ASCII value\")\n",
    "ch=int(input( \"Enter your choice: \"))\n",
    "if ch==1:\n",
    "    n1=input(\"Enter character: \")\n",
    "    ctoa(n1)\n",
    "elif ch==2:\n",
    "    n2= int(input(\"Enter ASCII value: \"))\n",
    "    atoc(n2)\n",
    "else:\n",
    "    print(\"Invalid Input\")\n"
   ]
  },
  {
   "cell_type": "code",
   "execution_count": null,
   "metadata": {},
   "outputs": [],
   "source": []
  }
 ],
 "metadata": {
  "kernelspec": {
   "display_name": "Python 3",
   "language": "python",
   "name": "python3"
  },
  "language_info": {
   "codemirror_mode": {
    "name": "ipython",
    "version": 3
   },
   "file_extension": ".py",
   "mimetype": "text/x-python",
   "name": "python",
   "nbconvert_exporter": "python",
   "pygments_lexer": "ipython3",
   "version": "3.8.5"
  }
 },
 "nbformat": 4,
 "nbformat_minor": 4
}
