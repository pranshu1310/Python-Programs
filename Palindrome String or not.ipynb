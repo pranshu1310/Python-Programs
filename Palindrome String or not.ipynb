{
 "cells": [
  {
   "cell_type": "markdown",
   "metadata": {},
   "source": [
    "Q12. Write a Program to enter the string and to check if it’s palindrome or not using loop."
   ]
  },
  {
   "cell_type": "code",
   "execution_count": 2,
   "metadata": {},
   "outputs": [
    {
     "name": "stdout",
     "output_type": "stream",
     "text": [
      "Please enter String : arora\n",
      "String in reverse Order :  arora\n",
      "arora is a Palindrome String\n"
     ]
    }
   ],
   "source": [
    "string = input(\"Please enter String : \")\n",
    "str1 = \"\"\n",
    "for i in string:\n",
    " str1 = i + str1\n",
    "print(\"String in reverse Order : \", str1)\n",
    "if(string == str1):\n",
    " print(string, \"is a Palindrome String\")\n",
    "else:\n",
    " print(string, \"is not a Palindrome String\")"
   ]
  },
  {
   "cell_type": "code",
   "execution_count": null,
   "metadata": {},
   "outputs": [],
   "source": []
  }
 ],
 "metadata": {
  "kernelspec": {
   "display_name": "Python 3",
   "language": "python",
   "name": "python3"
  },
  "language_info": {
   "codemirror_mode": {
    "name": "ipython",
    "version": 3
   },
   "file_extension": ".py",
   "mimetype": "text/x-python",
   "name": "python",
   "nbconvert_exporter": "python",
   "pygments_lexer": "ipython3",
   "version": "3.8.5"
  }
 },
 "nbformat": 4,
 "nbformat_minor": 4
}
